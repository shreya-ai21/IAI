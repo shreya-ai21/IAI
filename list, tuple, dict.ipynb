{
 "cells": [
  {
   "cell_type": "code",
   "execution_count": 1,
   "id": "4307f376",
   "metadata": {},
   "outputs": [],
   "source": [
    "import numpy as np"
   ]
  },
  {
   "cell_type": "code",
   "execution_count": 2,
   "id": "d711a869",
   "metadata": {},
   "outputs": [],
   "source": [
    "x={'name':'Shreya',\n",
    "  'phone':8324456978,\n",
    "  'company':'Google'}"
   ]
  },
  {
   "cell_type": "code",
   "execution_count": 3,
   "id": "8ac06a06",
   "metadata": {},
   "outputs": [
    {
     "name": "stdout",
     "output_type": "stream",
     "text": [
      "True\n",
      "True\n"
     ]
    }
   ],
   "source": [
    "print('name' in x)\n",
    "print('company' in x)"
   ]
  },
  {
   "cell_type": "code",
   "execution_count": 4,
   "id": "7fb6d204",
   "metadata": {},
   "outputs": [],
   "source": [
    "x['age']=19"
   ]
  },
  {
   "cell_type": "code",
   "execution_count": 5,
   "id": "99ba820b",
   "metadata": {},
   "outputs": [
    {
     "name": "stdout",
     "output_type": "stream",
     "text": [
      "True\n"
     ]
    }
   ],
   "source": [
    "print('age' in x)"
   ]
  },
  {
   "cell_type": "code",
   "execution_count": 6,
   "id": "795348dc",
   "metadata": {},
   "outputs": [],
   "source": [
    "arr=[1,2,3,4,5,6]\n",
    "arr=np.array(arr,dtype=int)"
   ]
  },
  {
   "cell_type": "code",
   "execution_count": 7,
   "id": "9ef4e306",
   "metadata": {},
   "outputs": [
    {
     "name": "stdout",
     "output_type": "stream",
     "text": [
      "[1 2 3 4 5 6]\n"
     ]
    }
   ],
   "source": [
    "print(arr)"
   ]
  },
  {
   "cell_type": "code",
   "execution_count": 8,
   "id": "58a12e08",
   "metadata": {},
   "outputs": [
    {
     "data": {
      "text/plain": [
       "array([[1, 2],\n",
       "       [3, 4],\n",
       "       [5, 6]])"
      ]
     },
     "execution_count": 8,
     "metadata": {},
     "output_type": "execute_result"
    }
   ],
   "source": [
    "arr.reshape(3,2)"
   ]
  },
  {
   "cell_type": "code",
   "execution_count": null,
   "id": "57361e91",
   "metadata": {},
   "outputs": [],
   "source": []
  }
 ],
 "metadata": {
  "kernelspec": {
   "display_name": "Python 3 (ipykernel)",
   "language": "python",
   "name": "python3"
  },
  "language_info": {
   "codemirror_mode": {
    "name": "ipython",
    "version": 3
   },
   "file_extension": ".py",
   "mimetype": "text/x-python",
   "name": "python",
   "nbconvert_exporter": "python",
   "pygments_lexer": "ipython3",
   "version": "3.9.12"
  }
 },
 "nbformat": 4,
 "nbformat_minor": 5
}
